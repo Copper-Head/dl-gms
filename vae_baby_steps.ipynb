{
 "cells": [
  {
   "cell_type": "markdown",
   "metadata": {},
   "source": [
    "# VAE Baby Steps\n",
    "\n",
    "Some of this code was borrowed from the internet and it turns out I have questions about it.\n",
    "I'd welcome comments/feedback."
   ]
  },
  {
   "cell_type": "code",
   "execution_count": 1,
   "metadata": {},
   "outputs": [
    {
     "name": "stderr",
     "output_type": "stream",
     "text": [
      "Using TensorFlow backend.\n"
     ]
    }
   ],
   "source": [
    "# Setup\n",
    "import tensorflow as tf\n",
    "from keras import Model\n",
    "from keras.layers import Input, Dense, Lambda\n",
    "import keras.backend as K\n",
    "\n",
    "import matplotlib.pyplot as plt\n",
    "%matplotlib inline"
   ]
  },
  {
   "cell_type": "markdown",
   "metadata": {},
   "source": [
    "## Constants"
   ]
  },
  {
   "cell_type": "code",
   "execution_count": 2,
   "metadata": {
    "collapsed": true
   },
   "outputs": [],
   "source": [
    "img_dim = 64\n",
    "img_channels = 3\n",
    "original_dim = img_dim ** 2 * img_channels\n",
    "intermediate_dim = 64\n",
    "latent_dim = 2\n",
    "# for the reparametrization trick.\n",
    "# Q: what would the effect of tweaking this be?\n",
    "epsilon_std = 1.0"
   ]
  },
  {
   "cell_type": "markdown",
   "metadata": {},
   "source": [
    "## Encoder"
   ]
  },
  {
   "cell_type": "code",
   "execution_count": 3,
   "metadata": {
    "collapsed": true
   },
   "outputs": [],
   "source": [
    "x = Input(shape=(original_dim, ))\n",
    "h = Dense(intermediate_dim, activation='relu')(x)\n",
    "z_mean = Dense(latent_dim)(h)\n",
    "z_log_var = Dense(latent_dim)(h)"
   ]
  },
  {
   "cell_type": "markdown",
   "metadata": {},
   "source": [
    "## Sampling\n",
    "\n",
    "Why are we halving `z_log_var`?"
   ]
  },
  {
   "cell_type": "code",
   "execution_count": 4,
   "metadata": {},
   "outputs": [],
   "source": [
    "def sampling(args):\n",
    "    \"\"\"Reparametrization trick\"\"\"\n",
    "    z_mean, z_log_var = args\n",
    "    epsilon = K.random_normal(\n",
    "        shape=(K.shape(z_mean)[0], latent_dim), mean=0., stddev=epsilon_std)\n",
    "    return z_mean + K.exp(z_log_var / 2) * epsilon\n",
    "\n",
    "\n",
    "z = Lambda(sampling)([z_mean, z_log_var])"
   ]
  },
  {
   "cell_type": "markdown",
   "metadata": {},
   "source": [
    "## Decoding\n",
    "\n",
    "Why the *mean* in `x_decoded_mean`?"
   ]
  },
  {
   "cell_type": "code",
   "execution_count": 5,
   "metadata": {
    "collapsed": true
   },
   "outputs": [],
   "source": [
    "h_decoded = Dense(intermediate_dim, activation='relu')(z)\n",
    "x_decoded_mean = Dense(original_dim, activation='sigmoid')(h_decoded)"
   ]
  },
  {
   "cell_type": "markdown",
   "metadata": {},
   "source": [
    "## Loss Function"
   ]
  },
  {
   "cell_type": "code",
   "execution_count": 6,
   "metadata": {
    "collapsed": true
   },
   "outputs": [],
   "source": [
    "from keras.losses import mean_squared_error"
   ]
  },
  {
   "cell_type": "code",
   "execution_count": 7,
   "metadata": {
    "collapsed": true
   },
   "outputs": [],
   "source": [
    "def vae_loss(x, x_decoded):\n",
    "    reconstruction_loss = mean_squared_error(x, x_decoded)\n",
    "    tf.summary.scalar('reconstruction_loss', reconstruction_loss)\n",
    "    kl_divergence_loss = -0.5 * K.mean(\n",
    "        1 + z_log_var - K.square(z_mean) - K.exp(z_log_var), axis=-1)\n",
    "    tf.summary.scalar('kl_loss', kl_divergence_loss)\n",
    "    return reconstruction_loss + kl_divergence_loss"
   ]
  },
  {
   "cell_type": "markdown",
   "metadata": {},
   "source": [
    "## The Model"
   ]
  },
  {
   "cell_type": "code",
   "execution_count": 8,
   "metadata": {},
   "outputs": [],
   "source": [
    "vae = Model(x, x_decoded_mean)"
   ]
  },
  {
   "cell_type": "code",
   "execution_count": 11,
   "metadata": {},
   "outputs": [
    {
     "name": "stdout",
     "output_type": "stream",
     "text": [
      "__________________________________________________________________________________________________\n",
      "Layer (type)                    Output Shape         Param #     Connected to                     \n",
      "==================================================================================================\n",
      "input_1 (InputLayer)            (None, 12288)        0                                            \n",
      "__________________________________________________________________________________________________\n",
      "dense_1 (Dense)                 (None, 64)           786496      input_1[0][0]                    \n",
      "__________________________________________________________________________________________________\n",
      "dense_2 (Dense)                 (None, 2)            130         dense_1[0][0]                    \n",
      "__________________________________________________________________________________________________\n",
      "dense_3 (Dense)                 (None, 2)            130         dense_1[0][0]                    \n",
      "__________________________________________________________________________________________________\n",
      "lambda_1 (Lambda)               (None, 2)            0           dense_2[0][0]                    \n",
      "                                                                 dense_3[0][0]                    \n",
      "__________________________________________________________________________________________________\n",
      "dense_4 (Dense)                 (None, 64)           192         lambda_1[0][0]                   \n",
      "__________________________________________________________________________________________________\n",
      "dense_5 (Dense)                 (None, 12288)        798720      dense_4[0][0]                    \n",
      "==================================================================================================\n",
      "Total params: 1,585,668\n",
      "Trainable params: 1,585,668\n",
      "Non-trainable params: 0\n",
      "__________________________________________________________________________________________________\n"
     ]
    }
   ],
   "source": [
    "vae.summary()"
   ]
  },
  {
   "cell_type": "code",
   "execution_count": 9,
   "metadata": {},
   "outputs": [],
   "source": [
    "vae.compile(optimizer='rmsprop', loss=vae_loss)"
   ]
  },
  {
   "cell_type": "markdown",
   "metadata": {},
   "source": [
    "## Training"
   ]
  },
  {
   "cell_type": "code",
   "execution_count": 10,
   "metadata": {
    "collapsed": true
   },
   "outputs": [],
   "source": [
    "from keras.preprocessing.image import load_img, img_to_array\n",
    "import numpy as np"
   ]
  },
  {
   "cell_type": "code",
   "execution_count": 11,
   "metadata": {
    "collapsed": true
   },
   "outputs": [],
   "source": [
    "IMG_PATH = '/home/quickbeam/dlrc/training_data/Data/noisy_real_data/0.png'"
   ]
  },
  {
   "cell_type": "code",
   "execution_count": 46,
   "metadata": {},
   "outputs": [],
   "source": [
    "def z_score_norm(images):\n",
    "    return ((images.T - images.mean(axis=-1)) / images.std(axis=-1)).T"
   ]
  },
  {
   "cell_type": "code",
   "execution_count": 48,
   "metadata": {
    "collapsed": true
   },
   "outputs": [],
   "source": [
    "data = np.array([img_to_array(load_img(IMG_PATH)).flatten()])\n",
    "data_normed = z_score_norm(data)"
   ]
  },
  {
   "cell_type": "code",
   "execution_count": 83,
   "metadata": {},
   "outputs": [
    {
     "name": "stdout",
     "output_type": "stream",
     "text": [
      "Epoch 1/100\n",
      "1/1 [==============================] - 0s 25ms/step - loss: 15.8348\n",
      "Epoch 2/100\n",
      "1/1 [==============================] - 0s 23ms/step - loss: 15.5461\n",
      "Epoch 3/100\n",
      "1/1 [==============================] - 0s 26ms/step - loss: 15.2447\n",
      "Epoch 4/100\n",
      "1/1 [==============================] - 0s 24ms/step - loss: 14.9283\n",
      "Epoch 5/100\n",
      "1/1 [==============================] - 0s 22ms/step - loss: 14.5959\n",
      "Epoch 6/100\n",
      "1/1 [==============================] - 0s 24ms/step - loss: 14.2467\n",
      "Epoch 7/100\n",
      "1/1 [==============================] - 0s 26ms/step - loss: 13.8796\n",
      "Epoch 8/100\n",
      "1/1 [==============================] - 0s 26ms/step - loss: 13.4943\n",
      "Epoch 9/100\n",
      "1/1 [==============================] - 0s 25ms/step - loss: 13.0895\n",
      "Epoch 10/100\n",
      "1/1 [==============================] - 0s 26ms/step - loss: 12.6685\n",
      "Epoch 11/100\n",
      "1/1 [==============================] - 0s 23ms/step - loss: 12.2570\n",
      "Epoch 12/100\n",
      "1/1 [==============================] - 0s 30ms/step - loss: 11.8302\n",
      "Epoch 13/100\n",
      "1/1 [==============================] - 0s 27ms/step - loss: 11.3826\n",
      "Epoch 14/100\n",
      "1/1 [==============================] - 0s 31ms/step - loss: 10.9127\n",
      "Epoch 15/100\n",
      "1/1 [==============================] - 0s 26ms/step - loss: 10.4211\n",
      "Epoch 16/100\n",
      "1/1 [==============================] - 0s 26ms/step - loss: 9.9150\n",
      "Epoch 17/100\n",
      "1/1 [==============================] - 0s 23ms/step - loss: 9.4419\n",
      "Epoch 18/100\n",
      "1/1 [==============================] - 0s 25ms/step - loss: 9.3121\n",
      "Epoch 19/100\n",
      "1/1 [==============================] - 0s 26ms/step - loss: 11.7021\n",
      "Epoch 20/100\n",
      "1/1 [==============================] - 0s 26ms/step - loss: 30.6926\n",
      "Epoch 21/100\n",
      "1/1 [==============================] - 0s 25ms/step - loss: 102.8421\n",
      "Epoch 22/100\n",
      "1/1 [==============================] - 0s 27ms/step - loss: 122.8139\n",
      "Epoch 23/100\n",
      "1/1 [==============================] - 0s 25ms/step - loss: 62.6093\n",
      "Epoch 24/100\n",
      "1/1 [==============================] - 0s 26ms/step - loss: 27.3657\n",
      "Epoch 25/100\n",
      "1/1 [==============================] - 0s 25ms/step - loss: 14.3755\n",
      "Epoch 26/100\n",
      "1/1 [==============================] - 0s 31ms/step - loss: 9.5696\n",
      "Epoch 27/100\n",
      "1/1 [==============================] - 0s 27ms/step - loss: 7.4744\n",
      "Epoch 28/100\n",
      "1/1 [==============================] - 0s 25ms/step - loss: 6.4046\n",
      "Epoch 29/100\n",
      "1/1 [==============================] - 0s 27ms/step - loss: 5.8264\n",
      "Epoch 30/100\n",
      "1/1 [==============================] - 0s 25ms/step - loss: 5.6702\n",
      "Epoch 31/100\n",
      "1/1 [==============================] - 0s 25ms/step - loss: 6.1183\n",
      "Epoch 32/100\n",
      "1/1 [==============================] - 0s 25ms/step - loss: 7.9003\n",
      "Epoch 33/100\n",
      "1/1 [==============================] - 0s 27ms/step - loss: 11.7243\n",
      "Epoch 34/100\n",
      "1/1 [==============================] - 0s 24ms/step - loss: 22.4204\n",
      "Epoch 35/100\n",
      "1/1 [==============================] - 0s 28ms/step - loss: 36.8139\n",
      "Epoch 36/100\n",
      "1/1 [==============================] - 0s 27ms/step - loss: 53.8227\n",
      "Epoch 37/100\n",
      "1/1 [==============================] - 0s 28ms/step - loss: 54.5146\n",
      "Epoch 38/100\n",
      "1/1 [==============================] - 0s 26ms/step - loss: 43.6468\n",
      "Epoch 39/100\n",
      "1/1 [==============================] - 0s 25ms/step - loss: 28.0481\n",
      "Epoch 40/100\n",
      "1/1 [==============================] - 0s 27ms/step - loss: 18.3066\n",
      "Epoch 41/100\n",
      "1/1 [==============================] - 0s 26ms/step - loss: 12.7852\n",
      "Epoch 42/100\n",
      "1/1 [==============================] - 0s 27ms/step - loss: 10.2855\n",
      "Epoch 43/100\n",
      "1/1 [==============================] - 0s 25ms/step - loss: 9.0985\n",
      "Epoch 44/100\n",
      "1/1 [==============================] - 0s 28ms/step - loss: 9.7479\n",
      "Epoch 45/100\n",
      "1/1 [==============================] - 0s 27ms/step - loss: 10.7028\n",
      "Epoch 46/100\n",
      "1/1 [==============================] - 0s 28ms/step - loss: 13.9662\n",
      "Epoch 47/100\n",
      "1/1 [==============================] - 0s 23ms/step - loss: 18.3995\n",
      "Epoch 48/100\n",
      "1/1 [==============================] - 0s 28ms/step - loss: 27.7815\n",
      "Epoch 49/100\n",
      "1/1 [==============================] - 0s 24ms/step - loss: 31.3591\n",
      "Epoch 50/100\n",
      "1/1 [==============================] - 0s 27ms/step - loss: 34.1838\n",
      "Epoch 51/100\n",
      "1/1 [==============================] - 0s 26ms/step - loss: 31.1500\n",
      "Epoch 52/100\n",
      "1/1 [==============================] - 0s 31ms/step - loss: 28.0757\n",
      "Epoch 53/100\n",
      "1/1 [==============================] - 0s 30ms/step - loss: 22.0259\n",
      "Epoch 54/100\n",
      "1/1 [==============================] - 0s 28ms/step - loss: 18.3742\n",
      "Epoch 55/100\n",
      "1/1 [==============================] - 0s 25ms/step - loss: 15.4522\n",
      "Epoch 56/100\n",
      "1/1 [==============================] - 0s 26ms/step - loss: 15.4018\n",
      "Epoch 57/100\n",
      "1/1 [==============================] - 0s 27ms/step - loss: 14.3045\n",
      "Epoch 58/100\n",
      "1/1 [==============================] - 0s 26ms/step - loss: 15.4386\n",
      "Epoch 59/100\n",
      "1/1 [==============================] - 0s 24ms/step - loss: 16.4033\n",
      "Epoch 60/100\n",
      "1/1 [==============================] - 0s 26ms/step - loss: 19.7805\n",
      "Epoch 61/100\n",
      "1/1 [==============================] - 0s 32ms/step - loss: 21.2862\n",
      "Epoch 62/100\n",
      "1/1 [==============================] - 0s 24ms/step - loss: 23.9654\n",
      "Epoch 63/100\n",
      "1/1 [==============================] - 0s 27ms/step - loss: 24.6642\n",
      "Epoch 64/100\n",
      "1/1 [==============================] - 0s 28ms/step - loss: 26.3303\n",
      "Epoch 65/100\n",
      "1/1 [==============================] - 0s 29ms/step - loss: 23.7709\n",
      "Epoch 66/100\n",
      "1/1 [==============================] - 0s 29ms/step - loss: 21.9284\n",
      "Epoch 67/100\n",
      "1/1 [==============================] - 0s 28ms/step - loss: 19.6176\n",
      "Epoch 68/100\n",
      "1/1 [==============================] - 0s 25ms/step - loss: 19.6208\n",
      "Epoch 69/100\n",
      "1/1 [==============================] - 0s 24ms/step - loss: 17.5784\n",
      "Epoch 70/100\n",
      "1/1 [==============================] - 0s 22ms/step - loss: 17.2021\n",
      "Epoch 71/100\n",
      "1/1 [==============================] - 0s 24ms/step - loss: 16.8691\n",
      "Epoch 72/100\n",
      "1/1 [==============================] - 0s 25ms/step - loss: 18.7754\n",
      "Epoch 73/100\n",
      "1/1 [==============================] - 0s 26ms/step - loss: 18.5251\n",
      "Epoch 74/100\n",
      "1/1 [==============================] - 0s 24ms/step - loss: 19.5205\n",
      "Epoch 75/100\n",
      "1/1 [==============================] - 0s 28ms/step - loss: 20.2659\n",
      "Epoch 76/100\n",
      "1/1 [==============================] - 0s 25ms/step - loss: 22.7300\n",
      "Epoch 77/100\n",
      "1/1 [==============================] - 0s 25ms/step - loss: 21.7990\n",
      "Epoch 78/100\n",
      "1/1 [==============================] - 0s 29ms/step - loss: 21.3787\n",
      "Epoch 79/100\n",
      "1/1 [==============================] - 0s 25ms/step - loss: 20.5180\n",
      "Epoch 80/100\n",
      "1/1 [==============================] - 0s 25ms/step - loss: 21.7295\n",
      "Epoch 81/100\n",
      "1/1 [==============================] - 0s 23ms/step - loss: 19.1074\n",
      "Epoch 82/100\n",
      "1/1 [==============================] - 0s 24ms/step - loss: 17.8129\n",
      "Epoch 83/100\n",
      "1/1 [==============================] - 0s 29ms/step - loss: 17.3675\n",
      "Epoch 84/100\n",
      "1/1 [==============================] - 0s 24ms/step - loss: 19.0446\n",
      "Epoch 85/100\n",
      "1/1 [==============================] - 0s 30ms/step - loss: 18.2228\n",
      "Epoch 86/100\n",
      "1/1 [==============================] - 0s 28ms/step - loss: 17.9412\n",
      "Epoch 87/100\n",
      "1/1 [==============================] - 0s 27ms/step - loss: 18.1570\n",
      "Epoch 88/100\n",
      "1/1 [==============================] - 0s 28ms/step - loss: 20.2011\n",
      "Epoch 89/100\n",
      "1/1 [==============================] - 0s 31ms/step - loss: 19.9385\n",
      "Epoch 90/100\n",
      "1/1 [==============================] - 0s 33ms/step - loss: 21.6238\n",
      "Epoch 91/100\n",
      "1/1 [==============================] - 0s 26ms/step - loss: 19.5950\n",
      "Epoch 92/100\n",
      "1/1 [==============================] - 0s 34ms/step - loss: 19.9477\n",
      "Epoch 93/100\n",
      "1/1 [==============================] - 0s 29ms/step - loss: 18.3369\n",
      "Epoch 94/100\n",
      "1/1 [==============================] - 0s 33ms/step - loss: 19.0789\n",
      "Epoch 95/100\n",
      "1/1 [==============================] - 0s 31ms/step - loss: 18.8314\n",
      "Epoch 96/100\n",
      "1/1 [==============================] - 0s 28ms/step - loss: 20.3803\n",
      "Epoch 97/100\n",
      "1/1 [==============================] - 0s 30ms/step - loss: 19.5872\n",
      "Epoch 98/100\n",
      "1/1 [==============================] - 0s 31ms/step - loss: 18.9931\n",
      "Epoch 99/100\n",
      "1/1 [==============================] - 0s 29ms/step - loss: 17.3705\n",
      "Epoch 100/100\n",
      "1/1 [==============================] - 0s 30ms/step - loss: 16.5549\n"
     ]
    },
    {
     "data": {
      "text/plain": [
       "<keras.callbacks.History at 0x7f78cc02e7f0>"
      ]
     },
     "execution_count": 83,
     "metadata": {},
     "output_type": "execute_result"
    }
   ],
   "source": [
    "vae.fit(x=data_normed, y=data_normed, epochs=100)"
   ]
  },
  {
   "cell_type": "markdown",
   "metadata": {},
   "source": [
    "## Playing with Model"
   ]
  },
  {
   "cell_type": "code",
   "execution_count": 84,
   "metadata": {
    "collapsed": true
   },
   "outputs": [],
   "source": [
    "encoder = Model(x, outputs=z_mean)"
   ]
  },
  {
   "cell_type": "code",
   "execution_count": 85,
   "metadata": {},
   "outputs": [],
   "source": [
    "decoder_z = Input(shape=[latent_dim])\n",
    "decoder_x = Dense(\n",
    "    original_dim, activation='sigmoid')(\n",
    "        Dense(intermediate_dim, activation='relu')(decoder_z))\n",
    "decoder = Model(decoder_z, decoder_x)"
   ]
  },
  {
   "cell_type": "code",
   "execution_count": 86,
   "metadata": {},
   "outputs": [
    {
     "data": {
      "text/plain": [
       "array([[ 3.23663163, -7.08713436]], dtype=float32)"
      ]
     },
     "execution_count": 86,
     "metadata": {},
     "output_type": "execute_result"
    }
   ],
   "source": [
    "encoder.predict(data_normed)"
   ]
  },
  {
   "cell_type": "code",
   "execution_count": 87,
   "metadata": {},
   "outputs": [],
   "source": [
    "dec = decoder.predict(encoder.predict(data_normed))"
   ]
  },
  {
   "cell_type": "code",
   "execution_count": 88,
   "metadata": {},
   "outputs": [
    {
     "data": {
      "text/plain": [
       "<matplotlib.image.AxesImage at 0x7f78c2543908>"
      ]
     },
     "execution_count": 88,
     "metadata": {},
     "output_type": "execute_result"
    },
    {
     "data": {
      "image/png": "[encoded data removed]",
      "text/plain": [
       "<matplotlib.figure.Figure at 0x7f78c2667198>"
      ]
     },
     "metadata": {},
     "output_type": "display_data"
    }
   ],
   "source": [
    "plt.imshow(dec.reshape((64, 64, 3)), interpolation='nearest', aspect='auto')"
   ]
  },
  {
   "cell_type": "code",
   "execution_count": 78,
   "metadata": {
    "collapsed": true
   },
   "outputs": [],
   "source": [
    "plt.imshow?"
   ]
  }
 ],
 "metadata": {
  "kernelspec": {
   "display_name": "Python 3",
   "language": "python",
   "name": "python3"
  },
  "language_info": {
   "codemirror_mode": {
    "name": "ipython",
    "version": 3
   },
   "file_extension": ".py",
   "mimetype": "text/x-python",
   "name": "python",
   "nbconvert_exporter": "python",
   "pygments_lexer": "ipython3",
   "version": "3.6.3"
  }
 },
 "nbformat": 4,
 "nbformat_minor": 2
}
